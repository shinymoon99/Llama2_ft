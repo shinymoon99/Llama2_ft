{
 "cells": [
  {
   "cell_type": "code",
   "execution_count": 1,
   "metadata": {},
   "outputs": [
    {
     "name": "stderr",
     "output_type": "stream",
     "text": [
      "c:\\Users\\26862\\.conda\\envs\\llam2_ft\\lib\\site-packages\\tqdm\\auto.py:21: TqdmWarning: IProgress not found. Please update jupyter and ipywidgets. See https://ipywidgets.readthedocs.io/en/stable/user_install.html\n",
      "  from .autonotebook import tqdm as notebook_tqdm\n",
      "                                   \r"
     ]
    }
   ],
   "source": [
    "import os \n",
    "temp = [{\"input\"}]\n",
    "def combine_text_files(input_folder, output_file):\n",
    "# Usage example:\n",
    "# input_folder = 'path/to/your/input/folder'\n",
    "# output_file = 'path/to/your/output/file.txt'\n",
    "# combine_text_files(input_folder, output_file)\n",
    "\n",
    "    try:\n",
    "        # Open the output file in write mode\n",
    "        with open(output_file, 'w') as output_file:\n",
    "            # List all files in the input folder\n",
    "            files = os.listdir(input_folder)\n",
    "\n",
    "            # Iterate through the files\n",
    "            for file_name in files:\n",
    "                if file_name.endswith('.txt'):  # Check if the file is a .txt file\n",
    "                    file_path = os.path.join(input_folder, file_name)\n",
    "                    \n",
    "                    # Open the current text file and read its contents\n",
    "                    with open(file_path, 'r') as input_file:\n",
    "                        lines = input_file.readlines()\n",
    "                        \n",
    "                        # Append the content of the current file to the output file\n",
    "                        output_file.writelines(lines)\n",
    "    except Exception as e:\n",
    "        print(f\"An error occurred: {str(e)}\")\n"
   ]
  },
  {
   "cell_type": "code",
   "execution_count": 1,
   "metadata": {},
   "outputs": [],
   "source": [
    "import json\n",
    "with open(\"./dataset/LLM_fine_tune_EE/instruction.txt\",\"r\") as f2:\n",
    "    instruction  =f2.read()\n",
    "input_datas = []\n",
    "output_datas = []\n",
    "dataset = []\n",
    "with open(\"./dataset/EE_cry/EE_fine_tuning/input.txt\",\"r\") as f:\n",
    "    input_datas=f.readlines()\n",
    "with open(\"./dataset/EE_cry/EE_fine_tuning/output.txt\",\"r\") as f1:\n",
    "    output_datas=f1.readlines()\n",
    "for i,o in zip(input_datas,output_datas):\n",
    "    dataset.append({\"input\":i,\"output\":o,\"instruction\":instruction})\n",
    "with open(\"./dataset/EE_cry/EE_fine_tuning/train.json\",\"w\") as f3:\n",
    "    json.dump(dataset,f3)"
   ]
  },
  {
   "cell_type": "code",
   "execution_count": 3,
   "metadata": {},
   "outputs": [],
   "source": [
    "import json\n",
    "output_datas =[]\n",
    "input_file_path = \"./dataset/LLM_infer/EE_input_noprompt.txt\"\n",
    "output_file_path = \"./dataset/LLM_infer/EE_input.txt\"\n",
    "instruction_path =\"./dataset/LLM_infer/EE_prompt.txt\"\n",
    "with open(input_file_path,\"r\",encoding=\"utf-8\") as f:\n",
    "    datas =f.readlines()\n",
    "with open(instruction_path,\"r\",encoding=\"utf-8\") as f1:\n",
    "    instruction =f1.read()\n",
    "for data in datas:\n",
    "    text = instruction.replace(\"\\n\",\"\")+data\n",
    "    output_datas.append(text)\n",
    "# File path to write to\n",
    "\n",
    "# Open the file in write mode\n",
    "with open(output_file_path, 'w',encoding=\"utf-8\") as file:\n",
    "    for item in output_datas:\n",
    "        file.write(item)\n"
   ]
  },
  {
   "cell_type": "code",
   "execution_count": 4,
   "metadata": {},
   "outputs": [],
   "source": [
    "import json\n",
    "txt_path = \"./dataset/EE_cry/test_combined\"\n",
    "input_path = txt_path+\"/input.txt\"\n",
    "output_path = txt_path+\"/output.txt\"\n",
    "output_json_path = \"./dataset/LLM_fine_tune_EE/eval.json\"\n",
    "instruction_path = \"./dataset/LLM_infer/EE_prompt.txt\"\n",
    "with open(instruction_path,\"r\") as f:\n",
    "    instruction = f.read()\n",
    "with open(output_path,\"r\") as f1:\n",
    "    outputs = f1.readlines()\n",
    "with open(input_path,\"r\") as f2:\n",
    "    inputs = f2.readlines()\n",
    "dataset = []\n",
    "for i in range(len(inputs)):\n",
    "    adata = {\"instruction\":instruction,\"input\":inputs[i],\"output\":outputs[i]}\n",
    "    dataset.append(adata)\n",
    "with open(\"./dataset/LLM_fine_tune_EE/eval.json\",\"w\") as f3:\n",
    "    json.dump(dataset,f3)"
   ]
  }
 ],
 "metadata": {
  "kernelspec": {
   "display_name": "llam2_ft",
   "language": "python",
   "name": "python3"
  },
  "language_info": {
   "codemirror_mode": {
    "name": "ipython",
    "version": 3
   },
   "file_extension": ".py",
   "mimetype": "text/x-python",
   "name": "python",
   "nbconvert_exporter": "python",
   "pygments_lexer": "ipython3",
   "version": "3.9.18"
  }
 },
 "nbformat": 4,
 "nbformat_minor": 2
}
