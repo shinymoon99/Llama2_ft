{
 "cells": [
  {
   "cell_type": "code",
   "execution_count": 4,
   "metadata": {},
   "outputs": [],
   "source": [
    "import re\n",
    "kind = [\"click\",\"view\",\"create\",\"configure\"]\n",
    "for i in range(4):\n",
    "    with open(f\"./dataset/EE_cry/train_txt/{kind[i]}_SL.txt\",\"r\") as f:\n",
    "        data = f.read()\n",
    "    pattern = \"<(.*?)>\"\n",
    "    data1 = re.sub(pattern,\"\",data)\n",
    "    with open(f\"./dataset/EE_cry/input_train_txt/{kind[i]}_SL.txt\",\"w\") as f1:\n",
    "        f1.write(data1)"
   ]
  },
  {
   "cell_type": "code",
   "execution_count": 1,
   "metadata": {},
   "outputs": [],
   "source": [
    "kind = [\"click\",\"view\",\"create\",\"configure\"]\n",
    "etype = [\"{点选}\",\"{查看}\",\"{创建}\",\"{配置}\"]\n",
    "for i in range(4):\n",
    "    with open(f\"./dataset/EE_cry/train_txt/{kind[i]}_SL.txt\",\"r\") as f:\n",
    "        data = f.readlines()\n",
    "    new_data = [etype[i]+x for x in data]\n",
    "\n",
    "    with open(f\"./dataset/EE_cry/output_train_txt/{kind[i]}_SL.txt\",\"w\") as f1:\n",
    "        for x in new_data:\n",
    "            f1.write(x)"
   ]
  },
  {
   "cell_type": "code",
   "execution_count": 3,
   "metadata": {},
   "outputs": [],
   "source": [
    "from utils.io import combine_text_files\n",
    "combine_text_files(\"./dataset/EE_cry/output_train_txt\",\"./dataset/EE_cry/EE_fine_tuning/output.txt\")"
   ]
  }
 ],
 "metadata": {
  "kernelspec": {
   "display_name": "llam2_ft",
   "language": "python",
   "name": "python3"
  },
  "language_info": {
   "codemirror_mode": {
    "name": "ipython",
    "version": 3
   },
   "file_extension": ".py",
   "mimetype": "text/x-python",
   "name": "python",
   "nbconvert_exporter": "python",
   "pygments_lexer": "ipython3",
   "version": "3.9.18"
  }
 },
 "nbformat": 4,
 "nbformat_minor": 2
}
